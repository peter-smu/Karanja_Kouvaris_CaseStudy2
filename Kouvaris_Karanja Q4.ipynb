{
 "cells": [
  {
   "cell_type": "markdown",
   "metadata": {},
   "source": [
    "# Question 04\n",
    "\n",
    "### Follow along with in-line comments for discourse of why certain code is formatted in specific ways"
   ]
  },
  {
   "cell_type": "code",
   "execution_count": 87,
   "metadata": {},
   "outputs": [],
   "source": [
    "import pandas as pd\n",
    "import numpy as np\n",
    "import datetime\n",
    "import matplotlib.pyplot as plt\n",
    "import operator\n",
    "%matplotlib inline"
   ]
  },
  {
   "cell_type": "code",
   "execution_count": 2,
   "metadata": {
    "collapsed": true
   },
   "outputs": [],
   "source": [
    "#first import the data sets\n",
    "city_temp = pd.read_csv(\"/Users/pkouvari/Dropbox/SMU/6306_dds/case study 2/CityTemp.csv\")\n",
    "temp = pd.read_csv(\"/Users/pkouvari/Dropbox/SMU/6306_dds/case study 2/TEMP.csv\")"
   ]
  },
  {
   "cell_type": "code",
   "execution_count": 11,
   "metadata": {},
   "outputs": [
    {
     "data": {
      "text/html": [
       "<div>\n",
       "<table border=\"1\" class=\"dataframe\">\n",
       "  <thead>\n",
       "    <tr style=\"text-align: right;\">\n",
       "      <th></th>\n",
       "      <th>Date</th>\n",
       "      <th>Monthly AverageTemp</th>\n",
       "      <th>Monthly AverageTemp Uncertainty</th>\n",
       "      <th>Country</th>\n",
       "    </tr>\n",
       "  </thead>\n",
       "  <tbody>\n",
       "    <tr>\n",
       "      <th>0</th>\n",
       "      <td>1838-04-01</td>\n",
       "      <td>13.008</td>\n",
       "      <td>2.586</td>\n",
       "      <td>Afghanistan</td>\n",
       "    </tr>\n",
       "    <tr>\n",
       "      <th>1</th>\n",
       "      <td>1838-05-01</td>\n",
       "      <td>NaN</td>\n",
       "      <td>NaN</td>\n",
       "      <td>Afghanistan</td>\n",
       "    </tr>\n",
       "    <tr>\n",
       "      <th>2</th>\n",
       "      <td>1838-06-01</td>\n",
       "      <td>23.950</td>\n",
       "      <td>2.510</td>\n",
       "      <td>Afghanistan</td>\n",
       "    </tr>\n",
       "    <tr>\n",
       "      <th>3</th>\n",
       "      <td>1838-07-01</td>\n",
       "      <td>26.877</td>\n",
       "      <td>2.883</td>\n",
       "      <td>Afghanistan</td>\n",
       "    </tr>\n",
       "    <tr>\n",
       "      <th>4</th>\n",
       "      <td>1838-08-01</td>\n",
       "      <td>24.938</td>\n",
       "      <td>2.992</td>\n",
       "      <td>Afghanistan</td>\n",
       "    </tr>\n",
       "  </tbody>\n",
       "</table>\n",
       "</div>"
      ],
      "text/plain": [
       "         Date  Monthly AverageTemp  Monthly AverageTemp Uncertainty  \\\n",
       "0  1838-04-01               13.008                            2.586   \n",
       "1  1838-05-01                  NaN                              NaN   \n",
       "2  1838-06-01               23.950                            2.510   \n",
       "3  1838-07-01               26.877                            2.883   \n",
       "4  1838-08-01               24.938                            2.992   \n",
       "\n",
       "       Country  \n",
       "0  Afghanistan  \n",
       "1  Afghanistan  \n",
       "2  Afghanistan  \n",
       "3  Afghanistan  \n",
       "4  Afghanistan  "
      ]
     },
     "execution_count": 11,
     "metadata": {},
     "output_type": "execute_result"
    }
   ],
   "source": [
    "#check shape\n",
    "temp.head()"
   ]
  },
  {
   "cell_type": "code",
   "execution_count": 172,
   "metadata": {},
   "outputs": [
    {
     "name": "stdout",
     "output_type": "stream",
     "text": [
      "Converting 574223 values to type datetime. This may take a few minutes.\n",
      "Converstion completed.\n"
     ]
    }
   ],
   "source": [
    "#the 'Date' column are not datetime objects, we can use to_datetime() but it will take a bit of time\n",
    "print(\"Converting \" + str(len(temp['Date']))+ \" values to type datetime. This may take a few minutes.\")\n",
    "temp['Date'] = pd.to_datetime(temp['Date']) \n",
    "print(\"Converstion completed.\")"
   ]
  },
  {
   "cell_type": "markdown",
   "metadata": {},
   "source": [
    "## Part (i)"
   ]
  },
  {
   "cell_type": "code",
   "execution_count": 74,
   "metadata": {},
   "outputs": [],
   "source": [
    "#(i)\n",
    "#store the data for each country in a library where key value is country name followed by a tuple\n",
    "#of (maximum, minimum, difference)\n",
    "values = {}\n",
    "i_df = temp[temp['Date'] > datetime.datetime(1900,1,1)]\n",
    "unique_countries = temp['Country'].unique()\n",
    "for country in unique_countries:\n",
    "    current_country = i_df[i_df['Country'] == country]\n",
    "    maxi = max(current_country['Monthly AverageTemp'])\n",
    "    mini = min(current_country['Monthly AverageTemp'])\n",
    "    val_tuple = (maxi, mini, (maxi-mini))\n",
    "    values[country] = val_tuple\n",
    "#take the difference value point and store in simpler structured dict that will be sortable\n",
    "#using operator library\n",
    "for_max = {}\n",
    "for country in values.keys():\n",
    "    for_max[country] = values[country][2]\n",
    "#change the dictionary into a list with tuples and save the top 20 to a list called \"top_20\"\n",
    "sorted_x = sorted(for_max.items(), key=operator.itemgetter(1))\n",
    "top_20 = sorted_x[-20:]"
   ]
  },
  {
   "cell_type": "code",
   "execution_count": 119,
   "metadata": {},
   "outputs": [
    {
     "data": {
      "text/html": [
       "<div>\n",
       "<table border=\"1\" class=\"dataframe\">\n",
       "  <thead>\n",
       "    <tr style=\"text-align: right;\">\n",
       "      <th></th>\n",
       "      <th>0</th>\n",
       "      <th>1</th>\n",
       "    </tr>\n",
       "  </thead>\n",
       "  <tbody>\n",
       "    <tr>\n",
       "      <th>0</th>\n",
       "      <td>Saudi Arabia</td>\n",
       "      <td>23.736</td>\n",
       "    </tr>\n",
       "    <tr>\n",
       "      <th>1</th>\n",
       "      <td>Tunisia</td>\n",
       "      <td>25.111</td>\n",
       "    </tr>\n",
       "    <tr>\n",
       "      <th>2</th>\n",
       "      <td>San Marino</td>\n",
       "      <td>27.537</td>\n",
       "    </tr>\n",
       "    <tr>\n",
       "      <th>3</th>\n",
       "      <td>Svalbard And Jan Mayen</td>\n",
       "      <td>28.676</td>\n",
       "    </tr>\n",
       "    <tr>\n",
       "      <th>4</th>\n",
       "      <td>Saint Pierre And Miquelon</td>\n",
       "      <td>29.433</td>\n",
       "    </tr>\n",
       "    <tr>\n",
       "      <th>5</th>\n",
       "      <td>United States</td>\n",
       "      <td>29.745</td>\n",
       "    </tr>\n",
       "    <tr>\n",
       "      <th>6</th>\n",
       "      <td>Switzerland</td>\n",
       "      <td>29.895</td>\n",
       "    </tr>\n",
       "    <tr>\n",
       "      <th>7</th>\n",
       "      <td>Turkey</td>\n",
       "      <td>30.220</td>\n",
       "    </tr>\n",
       "    <tr>\n",
       "      <th>8</th>\n",
       "      <td>Syria</td>\n",
       "      <td>30.378</td>\n",
       "    </tr>\n",
       "    <tr>\n",
       "      <th>9</th>\n",
       "      <td>Slovenia</td>\n",
       "      <td>31.179</td>\n",
       "    </tr>\n",
       "    <tr>\n",
       "      <th>10</th>\n",
       "      <td>Serbia</td>\n",
       "      <td>32.877</td>\n",
       "    </tr>\n",
       "    <tr>\n",
       "      <th>11</th>\n",
       "      <td>Sweden</td>\n",
       "      <td>33.732</td>\n",
       "    </tr>\n",
       "    <tr>\n",
       "      <th>12</th>\n",
       "      <td>Slovakia</td>\n",
       "      <td>33.833</td>\n",
       "    </tr>\n",
       "    <tr>\n",
       "      <th>13</th>\n",
       "      <td>South Korea</td>\n",
       "      <td>34.300</td>\n",
       "    </tr>\n",
       "    <tr>\n",
       "      <th>14</th>\n",
       "      <td>Tajikistan</td>\n",
       "      <td>35.829</td>\n",
       "    </tr>\n",
       "    <tr>\n",
       "      <th>15</th>\n",
       "      <td>Ukraine</td>\n",
       "      <td>38.660</td>\n",
       "    </tr>\n",
       "    <tr>\n",
       "      <th>16</th>\n",
       "      <td>Turkmenistan</td>\n",
       "      <td>40.579</td>\n",
       "    </tr>\n",
       "    <tr>\n",
       "      <th>17</th>\n",
       "      <td>Uzbekistan</td>\n",
       "      <td>42.698</td>\n",
       "    </tr>\n",
       "    <tr>\n",
       "      <th>18</th>\n",
       "      <td>Russia</td>\n",
       "      <td>46.682</td>\n",
       "    </tr>\n",
       "    <tr>\n",
       "      <th>19</th>\n",
       "      <td>Kazakhstan</td>\n",
       "      <td>49.163</td>\n",
       "    </tr>\n",
       "  </tbody>\n",
       "</table>\n",
       "</div>"
      ],
      "text/plain": [
       "                            0       1\n",
       "0                Saudi Arabia  23.736\n",
       "1                     Tunisia  25.111\n",
       "2                  San Marino  27.537\n",
       "3      Svalbard And Jan Mayen  28.676\n",
       "4   Saint Pierre And Miquelon  29.433\n",
       "5               United States  29.745\n",
       "6                 Switzerland  29.895\n",
       "7                      Turkey  30.220\n",
       "8                       Syria  30.378\n",
       "9                    Slovenia  31.179\n",
       "10                     Serbia  32.877\n",
       "11                     Sweden  33.732\n",
       "12                   Slovakia  33.833\n",
       "13                South Korea  34.300\n",
       "14                 Tajikistan  35.829\n",
       "15                    Ukraine  38.660\n",
       "16               Turkmenistan  40.579\n",
       "17                 Uzbekistan  42.698\n",
       "18                     Russia  46.682\n",
       "19                 Kazakhstan  49.163"
      ]
     },
     "execution_count": 119,
     "metadata": {},
     "output_type": "execute_result"
    }
   ],
   "source": [
    "#We can see the largest differences list in the dataframe below\n",
    "top_20_df = pd.DataFrame(top_20)\n",
    "top_20_df"
   ]
  },
  {
   "cell_type": "code",
   "execution_count": 173,
   "metadata": {},
   "outputs": [
    {
     "data": {
      "text/plain": [
       "(array([  0. ,   2.5,   5. ,   7.5,  10. ,  12.5,  15. ,  17.5,  20. ]),\n",
       " <a list of 9 Text xticklabel objects>)"
      ]
     },
     "execution_count": 173,
     "metadata": {},
     "output_type": "execute_result"
    },
    {
     "data": {
      "image/png": "[encoded data removed]",
      "text/plain": [
       "<matplotlib.figure.Figure at 0x11158a898>"
      ]
     },
     "metadata": {},
     "output_type": "display_data"
    }
   ],
   "source": [
    "#And plot to get an idea of how the max countries compare\n",
    "top_20_df.plot(x = 0, y = 1, title = \"Largest Temp Diffs in Cel. by Country Since 1900\")\n",
    "plt.xticks(rotation=90, fontsize=10)"
   ]
  },
  {
   "cell_type": "markdown",
   "metadata": {},
   "source": [
    "## Part (ii)"
   ]
  },
  {
   "cell_type": "code",
   "execution_count": 45,
   "metadata": {},
   "outputs": [],
   "source": [
    "##(ii)\n",
    "#subset it first\n",
    "df_1990 = temp[temp['Date'] >= datetime.datetime(1990,1,1)]\n",
    "UStemp = df_1990[df_1990['Country'] == \"United States\"]\n",
    "\n",
    "#(ii)(a)\n",
    "def conversion(cel):\n",
    "    return(cel * 1.8 + 32)\n",
    "\n",
    "UStemp['AvgTemp Fahrenheit'] = UStemp['Monthly AverageTemp'].apply(lambda x: conversion(x))"
   ]
  },
  {
   "cell_type": "code",
   "execution_count": 75,
   "metadata": {},
   "outputs": [
    {
     "data": {
      "text/html": [
       "<div>\n",
       "<table border=\"1\" class=\"dataframe\">\n",
       "  <thead>\n",
       "    <tr style=\"text-align: right;\">\n",
       "      <th></th>\n",
       "      <th>Date</th>\n",
       "      <th>Monthly AverageTemp</th>\n",
       "      <th>Monthly AverageTemp Uncertainty</th>\n",
       "      <th>Country</th>\n",
       "      <th>AvgTemp Fahrenheit</th>\n",
       "    </tr>\n",
       "  </thead>\n",
       "  <tbody>\n",
       "    <tr>\n",
       "      <th>554297</th>\n",
       "      <td>1990-01-01</td>\n",
       "      <td>-1.123</td>\n",
       "      <td>0.195</td>\n",
       "      <td>United States</td>\n",
       "      <td>29.9786</td>\n",
       "    </tr>\n",
       "    <tr>\n",
       "      <th>554298</th>\n",
       "      <td>1990-02-01</td>\n",
       "      <td>-1.747</td>\n",
       "      <td>0.107</td>\n",
       "      <td>United States</td>\n",
       "      <td>28.8554</td>\n",
       "    </tr>\n",
       "    <tr>\n",
       "      <th>554299</th>\n",
       "      <td>1990-03-01</td>\n",
       "      <td>4.465</td>\n",
       "      <td>0.240</td>\n",
       "      <td>United States</td>\n",
       "      <td>40.0370</td>\n",
       "    </tr>\n",
       "    <tr>\n",
       "      <th>554300</th>\n",
       "      <td>1990-04-01</td>\n",
       "      <td>9.380</td>\n",
       "      <td>0.080</td>\n",
       "      <td>United States</td>\n",
       "      <td>48.8840</td>\n",
       "    </tr>\n",
       "    <tr>\n",
       "      <th>554301</th>\n",
       "      <td>1990-05-01</td>\n",
       "      <td>13.772</td>\n",
       "      <td>0.112</td>\n",
       "      <td>United States</td>\n",
       "      <td>56.7896</td>\n",
       "    </tr>\n",
       "  </tbody>\n",
       "</table>\n",
       "</div>"
      ],
      "text/plain": [
       "             Date  Monthly AverageTemp  Monthly AverageTemp Uncertainty  \\\n",
       "554297 1990-01-01               -1.123                            0.195   \n",
       "554298 1990-02-01               -1.747                            0.107   \n",
       "554299 1990-03-01                4.465                            0.240   \n",
       "554300 1990-04-01                9.380                            0.080   \n",
       "554301 1990-05-01               13.772                            0.112   \n",
       "\n",
       "              Country  AvgTemp Fahrenheit  \n",
       "554297  United States             29.9786  \n",
       "554298  United States             28.8554  \n",
       "554299  United States             40.0370  \n",
       "554300  United States             48.8840  \n",
       "554301  United States             56.7896  "
      ]
     },
     "execution_count": 75,
     "metadata": {},
     "output_type": "execute_result"
    }
   ],
   "source": [
    "#we can see our new column here\n",
    "UStemp.head()"
   ]
  },
  {
   "cell_type": "code",
   "execution_count": 85,
   "metadata": {},
   "outputs": [
    {
     "name": "stderr",
     "output_type": "stream",
     "text": [
      "/anaconda/lib/python3.6/site-packages/ipykernel_launcher.py:3: SettingWithCopyWarning: \n",
      "A value is trying to be set on a copy of a slice from a DataFrame.\n",
      "Try using .loc[row_indexer,col_indexer] = value instead\n",
      "\n",
      "See the caveats in the documentation: http://pandas.pydata.org/pandas-docs/stable/indexing.html#indexing-view-versus-copy\n",
      "  This is separate from the ipykernel package so we can avoid doing imports until\n"
     ]
    }
   ],
   "source": [
    "#(ii)(b)\n",
    "#lets create a year column so we can use simple code \n",
    "#oddly, you dont need to call .year() but can use .year\n",
    "UStemp['Year'] = UStemp['Date'].apply(lambda x: x.year)\n"
   ]
  },
  {
   "cell_type": "code",
   "execution_count": 89,
   "metadata": {},
   "outputs": [],
   "source": [
    "year_temps = {}\n",
    "for year in UStemp['Year'].unique():\n",
    "    curr_year = UStemp[UStemp['Year'] == year]\n",
    "    yearly_average = np.mean(curr_year['AvgTemp Fahrenheit'])\n",
    "    year_temps[year] = yearly_average"
   ]
  },
  {
   "cell_type": "code",
   "execution_count": 120,
   "metadata": {},
   "outputs": [
    {
     "data": {
      "text/plain": [
       "{1990: 49.13884999999999,\n",
       " 1991: 49.08859999999999,\n",
       " 1992: 48.3014,\n",
       " 1993: 47.96105000000001,\n",
       " 1994: 48.6866,\n",
       " 1995: 48.79579999999999,\n",
       " 1996: 47.7578,\n",
       " 1997: 48.51125,\n",
       " 1998: 50.254099999999994,\n",
       " 1999: 49.22059999999999,\n",
       " 2000: 49.36955000000001,\n",
       " 2001: 49.61405,\n",
       " 2002: 49.66909999999999,\n",
       " 2003: 49.559149999999995,\n",
       " 2004: 49.401500000000006,\n",
       " 2005: 49.8068,\n",
       " 2006: 49.95409999999999,\n",
       " 2007: 49.70750000000001,\n",
       " 2008: 48.112550000000006,\n",
       " 2009: 48.44674999999999,\n",
       " 2010: 49.11005,\n",
       " 2011: 49.18985,\n",
       " 2012: 50.469950000000004,\n",
       " 2013: 52.3348}"
      ]
     },
     "execution_count": 120,
     "metadata": {},
     "output_type": "execute_result"
    }
   ],
   "source": [
    "#the raw data\n",
    "year_temps"
   ]
  },
  {
   "cell_type": "code",
   "execution_count": 104,
   "metadata": {
    "scrolled": false
   },
   "outputs": [
    {
     "data": {
      "text/plain": [
       "([<matplotlib.axis.XTick at 0x122c01940>,\n",
       "  <matplotlib.axis.XTick at 0x122aeb1d0>,\n",
       "  <matplotlib.axis.XTick at 0x122c691d0>,\n",
       "  <matplotlib.axis.XTick at 0x122d92c18>,\n",
       "  <matplotlib.axis.XTick at 0x122d98630>,\n",
       "  <matplotlib.axis.XTick at 0x122da0048>,\n",
       "  <matplotlib.axis.XTick at 0x122da0a20>,\n",
       "  <matplotlib.axis.XTick at 0x122da6438>,\n",
       "  <matplotlib.axis.XTick at 0x122da6e10>,\n",
       "  <matplotlib.axis.XTick at 0x122dab828>,\n",
       "  <matplotlib.axis.XTick at 0x122c72a20>,\n",
       "  <matplotlib.axis.XTick at 0x122c61c88>,\n",
       "  <matplotlib.axis.XTick at 0x122db1208>,\n",
       "  <matplotlib.axis.XTick at 0x122db1be0>,\n",
       "  <matplotlib.axis.XTick at 0x122db95f8>,\n",
       "  <matplotlib.axis.XTick at 0x122db9fd0>,\n",
       "  <matplotlib.axis.XTick at 0x122dbd9e8>,\n",
       "  <matplotlib.axis.XTick at 0x122dc4400>,\n",
       "  <matplotlib.axis.XTick at 0x122dc4dd8>,\n",
       "  <matplotlib.axis.XTick at 0x122dcd7f0>,\n",
       "  <matplotlib.axis.XTick at 0x122dd3208>,\n",
       "  <matplotlib.axis.XTick at 0x122dd3be0>,\n",
       "  <matplotlib.axis.XTick at 0x122dd95f8>,\n",
       "  <matplotlib.axis.XTick at 0x122dd9fd0>],\n",
       " <a list of 24 Text xticklabel objects>)"
      ]
     },
     "execution_count": 104,
     "metadata": {},
     "output_type": "execute_result"
    },
    {
     "data": {
      "image/png": "[encoded data removed]",
      "text/plain": [
       "<matplotlib.figure.Figure at 0x122afc668>"
      ]
     },
     "metadata": {},
     "output_type": "display_data"
    }
   ],
   "source": [
    "#a Bar Plot showing the average temps\n",
    "plt.bar(range(len(year_temps)), year_temps.values(), align='center')\n",
    "plt.xticks(range(len(year_temps)), year_temps.keys(),rotation=90, fontsize=10)"
   ]
  },
  {
   "cell_type": "code",
   "execution_count": 124,
   "metadata": {},
   "outputs": [],
   "source": [
    "## we want the difference between the year and the one after, so we can use the dictionary \"year_temps\"\n",
    "## we used in the above code\n",
    "## (ii)(c)\n",
    "year_to_year = {}\n",
    "for x in range(1990,2013):\n",
    "    curr_year = year_temps[x]\n",
    "    next_year = year_temps[x+1]\n",
    "    diff = curr_year - next_year\n",
    "    year_to_year[x] = diff"
   ]
  },
  {
   "cell_type": "code",
   "execution_count": 125,
   "metadata": {},
   "outputs": [
    {
     "data": {
      "text/plain": [
       "{1990: 0.05024999999999835,\n",
       " 1991: 0.7871999999999915,\n",
       " 1992: 0.3403499999999937,\n",
       " 1993: -0.7255499999999913,\n",
       " 1994: -0.10919999999999419,\n",
       " 1995: 1.0379999999999896,\n",
       " 1996: -0.7534499999999937,\n",
       " 1997: -1.7428499999999971,\n",
       " 1998: 1.0335000000000036,\n",
       " 1999: -0.14895000000002057,\n",
       " 2000: -0.24449999999998795,\n",
       " 2001: -0.05504999999999427,\n",
       " 2002: 0.10994999999999777,\n",
       " 2003: 0.15764999999998963,\n",
       " 2004: -0.4052999999999969,\n",
       " 2005: -0.1472999999999871,\n",
       " 2006: 0.2465999999999795,\n",
       " 2007: 1.5949500000000043,\n",
       " 2008: -0.3341999999999814,\n",
       " 2009: -0.6633000000000138,\n",
       " 2010: -0.07979999999999876,\n",
       " 2011: -1.2801000000000045,\n",
       " 2012: -1.864849999999997}"
      ]
     },
     "execution_count": 125,
     "metadata": {},
     "output_type": "execute_result"
    }
   ],
   "source": [
    "year_to_year"
   ]
  },
  {
   "cell_type": "code",
   "execution_count": 174,
   "metadata": {},
   "outputs": [
    {
     "data": {
      "text/plain": [
       "1.864849999999997"
      ]
     },
     "execution_count": 174,
     "metadata": {},
     "output_type": "execute_result"
    }
   ],
   "source": [
    "#this code can be confusing, but is making a list out of the dictionary keys, then applying abs() function\n",
    "#using map, because abs() only works on one item at a time\n",
    "max(map(abs, list(year_to_year.values())))\n",
    "#we see this difference was in 2012 -> 2013"
   ]
  },
  {
   "cell_type": "markdown",
   "metadata": {},
   "source": [
    "## Part (iii)"
   ]
  },
  {
   "cell_type": "code",
   "execution_count": 156,
   "metadata": {},
   "outputs": [
    {
     "name": "stdout",
     "output_type": "stream",
     "text": [
      "Converting 237200 values to type datetime. This may take a few minutes.\n",
      "Converstion completed.\n"
     ]
    }
   ],
   "source": [
    "#(iii)\n",
    "#convert and parse dates\n",
    "#the 'Date' column are not datetime objects, we can use to_datetime() but it will take a bit of time\n",
    "print(\"Converting \" + str(len(city_temp['Date']))+ \" values to type datetime. This may take a few minutes.\")\n",
    "city_temp['Date'] = pd.to_datetime(city_temp['Date']) \n",
    "print(\"Converstion completed.\")\n",
    "city_1900 = city_temp[city_temp['Date'] >= datetime.datetime(1900,1,1)]"
   ]
  },
  {
   "cell_type": "code",
   "execution_count": 157,
   "metadata": {},
   "outputs": [
    {
     "data": {
      "text/html": [
       "<div>\n",
       "<table border=\"1\" class=\"dataframe\">\n",
       "  <thead>\n",
       "    <tr style=\"text-align: right;\">\n",
       "      <th></th>\n",
       "      <th>Date</th>\n",
       "      <th>Monthly AverageTemp</th>\n",
       "      <th>Monthly AverageTemp Uncertainty</th>\n",
       "      <th>City</th>\n",
       "      <th>Country</th>\n",
       "      <th>Latitude</th>\n",
       "      <th>Longitude</th>\n",
       "    </tr>\n",
       "  </thead>\n",
       "  <tbody>\n",
       "    <tr>\n",
       "      <th>600</th>\n",
       "      <td>1900-01-01</td>\n",
       "      <td>17.019</td>\n",
       "      <td>1.073</td>\n",
       "      <td>Addis Abeba</td>\n",
       "      <td>Ethiopia</td>\n",
       "      <td>8.84N</td>\n",
       "      <td>38.11E</td>\n",
       "    </tr>\n",
       "    <tr>\n",
       "      <th>601</th>\n",
       "      <td>1900-02-01</td>\n",
       "      <td>18.153</td>\n",
       "      <td>0.772</td>\n",
       "      <td>Addis Abeba</td>\n",
       "      <td>Ethiopia</td>\n",
       "      <td>8.84N</td>\n",
       "      <td>38.11E</td>\n",
       "    </tr>\n",
       "    <tr>\n",
       "      <th>602</th>\n",
       "      <td>1900-03-01</td>\n",
       "      <td>19.110</td>\n",
       "      <td>0.954</td>\n",
       "      <td>Addis Abeba</td>\n",
       "      <td>Ethiopia</td>\n",
       "      <td>8.84N</td>\n",
       "      <td>38.11E</td>\n",
       "    </tr>\n",
       "    <tr>\n",
       "      <th>603</th>\n",
       "      <td>1900-04-01</td>\n",
       "      <td>19.492</td>\n",
       "      <td>0.887</td>\n",
       "      <td>Addis Abeba</td>\n",
       "      <td>Ethiopia</td>\n",
       "      <td>8.84N</td>\n",
       "      <td>38.11E</td>\n",
       "    </tr>\n",
       "    <tr>\n",
       "      <th>604</th>\n",
       "      <td>1900-05-01</td>\n",
       "      <td>18.353</td>\n",
       "      <td>2.247</td>\n",
       "      <td>Addis Abeba</td>\n",
       "      <td>Ethiopia</td>\n",
       "      <td>8.84N</td>\n",
       "      <td>38.11E</td>\n",
       "    </tr>\n",
       "  </tbody>\n",
       "</table>\n",
       "</div>"
      ],
      "text/plain": [
       "          Date  Monthly AverageTemp  Monthly AverageTemp Uncertainty  \\\n",
       "600 1900-01-01               17.019                            1.073   \n",
       "601 1900-02-01               18.153                            0.772   \n",
       "602 1900-03-01               19.110                            0.954   \n",
       "603 1900-04-01               19.492                            0.887   \n",
       "604 1900-05-01               18.353                            2.247   \n",
       "\n",
       "            City   Country Latitude Longitude  \n",
       "600  Addis Abeba  Ethiopia    8.84N    38.11E  \n",
       "601  Addis Abeba  Ethiopia    8.84N    38.11E  \n",
       "602  Addis Abeba  Ethiopia    8.84N    38.11E  \n",
       "603  Addis Abeba  Ethiopia    8.84N    38.11E  \n",
       "604  Addis Abeba  Ethiopia    8.84N    38.11E  "
      ]
     },
     "execution_count": 157,
     "metadata": {},
     "output_type": "execute_result"
    }
   ],
   "source": [
    "#check shape\n",
    "city_1900.head()"
   ]
  },
  {
   "cell_type": "code",
   "execution_count": 161,
   "metadata": {},
   "outputs": [],
   "source": [
    "#(iv)\n",
    "#store the data for each country in a library where key value is country name followed by a tuple\n",
    "#of (maximum, minimum, difference)\n",
    "values_2 = {}\n",
    "unique_cities = city_1900['City'].unique()\n",
    "for city in unique_cities:\n",
    "    current_city = city_1900[city_1900['City'] == city]\n",
    "    maxi = max(current_city['Monthly AverageTemp'])\n",
    "    mini = min(current_city['Monthly AverageTemp'])\n",
    "    val_tuple = (maxi, mini, (maxi-mini))\n",
    "    values_2[city] = val_tuple\n",
    "#take the difference value point and store in simpler structured dict that will be sortable\n",
    "#using operator library\n",
    "for_max_diff = {}\n",
    "for city in values_2.keys():\n",
    "    for_max_diff[city] = values_2[city][2]\n",
    "#change the dictionary into a list with tuples and save the top 20 to a list called \"top_20\"\n",
    "sorted_items = sorted(for_max_diff.items(), key=operator.itemgetter(1))\n",
    "top_20_2 = sorted_items[-20:]"
   ]
  },
  {
   "cell_type": "code",
   "execution_count": 165,
   "metadata": {},
   "outputs": [
    {
     "data": {
      "text/html": [
       "<div>\n",
       "<table border=\"1\" class=\"dataframe\">\n",
       "  <thead>\n",
       "    <tr style=\"text-align: right;\">\n",
       "      <th></th>\n",
       "      <th>0</th>\n",
       "      <th>1</th>\n",
       "    </tr>\n",
       "  </thead>\n",
       "  <tbody>\n",
       "    <tr>\n",
       "      <th>0</th>\n",
       "      <td>Jinan</td>\n",
       "      <td>33.778</td>\n",
       "    </tr>\n",
       "    <tr>\n",
       "      <th>1</th>\n",
       "      <td>Berlin</td>\n",
       "      <td>33.920</td>\n",
       "    </tr>\n",
       "    <tr>\n",
       "      <th>2</th>\n",
       "      <td>Baghdad</td>\n",
       "      <td>34.047</td>\n",
       "    </tr>\n",
       "    <tr>\n",
       "      <th>3</th>\n",
       "      <td>New York</td>\n",
       "      <td>34.460</td>\n",
       "    </tr>\n",
       "    <tr>\n",
       "      <th>4</th>\n",
       "      <td>Tangshan</td>\n",
       "      <td>34.833</td>\n",
       "    </tr>\n",
       "    <tr>\n",
       "      <th>5</th>\n",
       "      <td>Chicago</td>\n",
       "      <td>34.962</td>\n",
       "    </tr>\n",
       "    <tr>\n",
       "      <th>6</th>\n",
       "      <td>Dalian</td>\n",
       "      <td>35.223</td>\n",
       "    </tr>\n",
       "    <tr>\n",
       "      <th>7</th>\n",
       "      <td>Mashhad</td>\n",
       "      <td>35.610</td>\n",
       "    </tr>\n",
       "    <tr>\n",
       "      <th>8</th>\n",
       "      <td>Seoul</td>\n",
       "      <td>35.783</td>\n",
       "    </tr>\n",
       "    <tr>\n",
       "      <th>9</th>\n",
       "      <td>Peking</td>\n",
       "      <td>36.953</td>\n",
       "    </tr>\n",
       "    <tr>\n",
       "      <th>10</th>\n",
       "      <td>Tianjin</td>\n",
       "      <td>36.953</td>\n",
       "    </tr>\n",
       "    <tr>\n",
       "      <th>11</th>\n",
       "      <td>Taiyuan</td>\n",
       "      <td>37.834</td>\n",
       "    </tr>\n",
       "    <tr>\n",
       "      <th>12</th>\n",
       "      <td>Toronto</td>\n",
       "      <td>38.683</td>\n",
       "    </tr>\n",
       "    <tr>\n",
       "      <th>13</th>\n",
       "      <td>Saint Petersburg</td>\n",
       "      <td>40.510</td>\n",
       "    </tr>\n",
       "    <tr>\n",
       "      <th>14</th>\n",
       "      <td>Kiev</td>\n",
       "      <td>40.784</td>\n",
       "    </tr>\n",
       "    <tr>\n",
       "      <th>15</th>\n",
       "      <td>Montreal</td>\n",
       "      <td>41.422</td>\n",
       "    </tr>\n",
       "    <tr>\n",
       "      <th>16</th>\n",
       "      <td>Shenyang</td>\n",
       "      <td>43.045</td>\n",
       "    </tr>\n",
       "    <tr>\n",
       "      <th>17</th>\n",
       "      <td>Moscow</td>\n",
       "      <td>43.956</td>\n",
       "    </tr>\n",
       "    <tr>\n",
       "      <th>18</th>\n",
       "      <td>Changchun</td>\n",
       "      <td>49.844</td>\n",
       "    </tr>\n",
       "    <tr>\n",
       "      <th>19</th>\n",
       "      <td>Harbin</td>\n",
       "      <td>53.281</td>\n",
       "    </tr>\n",
       "  </tbody>\n",
       "</table>\n",
       "</div>"
      ],
      "text/plain": [
       "                   0       1\n",
       "0              Jinan  33.778\n",
       "1             Berlin  33.920\n",
       "2            Baghdad  34.047\n",
       "3           New York  34.460\n",
       "4           Tangshan  34.833\n",
       "5            Chicago  34.962\n",
       "6             Dalian  35.223\n",
       "7            Mashhad  35.610\n",
       "8              Seoul  35.783\n",
       "9             Peking  36.953\n",
       "10           Tianjin  36.953\n",
       "11           Taiyuan  37.834\n",
       "12           Toronto  38.683\n",
       "13  Saint Petersburg  40.510\n",
       "14              Kiev  40.784\n",
       "15          Montreal  41.422\n",
       "16          Shenyang  43.045\n",
       "17            Moscow  43.956\n",
       "18         Changchun  49.844\n",
       "19            Harbin  53.281"
      ]
     },
     "execution_count": 165,
     "metadata": {},
     "output_type": "execute_result"
    }
   ],
   "source": [
    "top_20_2_df = pd.DataFrame(top_20_2)\n",
    "top_20_2_df"
   ]
  },
  {
   "cell_type": "code",
   "execution_count": 175,
   "metadata": {},
   "outputs": [
    {
     "data": {
      "text/plain": [
       "<matplotlib.axes._subplots.AxesSubplot at 0x122a9aa20>"
      ]
     },
     "execution_count": 175,
     "metadata": {},
     "output_type": "execute_result"
    },
    {
     "data": {
      "image/png": "[encoded data removed]",
      "text/plain": [
       "<matplotlib.figure.Figure at 0x12292d588>"
      ]
     },
     "metadata": {},
     "output_type": "display_data"
    }
   ],
   "source": [
    "top_20_2_df.plot(x = 0, y = 1, title = \"Largest Temp Diffs in Cel. by City Since 1900\")\n"
   ]
  },
  {
   "cell_type": "markdown",
   "metadata": {},
   "source": [
    "## Part (iv)\n",
    "\n",
    "####  The steeper increase in city temperature is perhaps due to a rapid change in the industrialization of some of these Chinese cities in the last 2 decades which have increased pollution due to increased production."
   ]
  },
  {
   "cell_type": "code",
   "execution_count": 171,
   "metadata": {},
   "outputs": [
    {
     "data": {
      "text/plain": [
       "(array([  0. ,   2.5,   5. ,   7.5,  10. ,  12.5,  15. ,  17.5,  20. ]),\n",
       " <a list of 9 Text xticklabel objects>)"
      ]
     },
     "execution_count": 171,
     "metadata": {},
     "output_type": "execute_result"
    },
    {
     "data": {
      "image/png": "[encoded data removed]",
      "text/plain": [
       "<matplotlib.figure.Figure at 0x122945048>"
      ]
     },
     "metadata": {},
     "output_type": "display_data"
    },
    {
     "data": {
      "image/png": "[encoded data removed]",
      "text/plain": [
       "<matplotlib.figure.Figure at 0x122b85e80>"
      ]
     },
     "metadata": {},
     "output_type": "display_data"
    }
   ],
   "source": [
    "#(iv) Reviewing them Both\n",
    "top_20_2_df.plot(x = 0, y = 1, title = \"Largest Temp Diffs in Cel. by City Since 1900\")\n",
    "top_20_df.plot(x = 0, y = 1, title = \"Largest Temp Diffs in Cel. by Country Since 1900\")\n",
    "\n",
    "plt.xticks(rotation=90, fontsize=10)\n",
    "#the steeper increase in city temperature is perhaps due to a rapid change in the industrialization of some of\n",
    "#these Chinese cities in the last 2 decades which have increased pollution due to increased production.\n"
   ]
  }
 ],
 "metadata": {
  "kernelspec": {
   "display_name": "Python 3",
   "language": "python",
   "name": "python3"
  },
  "language_info": {
   "codemirror_mode": {
    "name": "ipython",
    "version": 3
   },
   "file_extension": ".py",
   "mimetype": "text/x-python",
   "name": "python",
   "nbconvert_exporter": "python",
   "pygments_lexer": "ipython3",
   "version": "3.6.0"
  }
 },
 "nbformat": 4,
 "nbformat_minor": 2
}
